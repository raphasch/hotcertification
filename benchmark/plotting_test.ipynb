{
 "cells": [
  {
   "cell_type": "code",
   "execution_count": 3,
   "id": "611bef2f",
   "metadata": {},
   "outputs": [
    {
     "data": {
      "text/html": [
       "<div>\n",
       "<style scoped>\n",
       "    .dataframe tbody tr th:only-of-type {\n",
       "        vertical-align: middle;\n",
       "    }\n",
       "\n",
       "    .dataframe tbody tr th {\n",
       "        vertical-align: top;\n",
       "    }\n",
       "\n",
       "    .dataframe thead th {\n",
       "        text-align: right;\n",
       "    }\n",
       "</style>\n",
       "<table border=\"1\" class=\"dataframe\">\n",
       "  <thead>\n",
       "    <tr style=\"text-align: right;\">\n",
       "      <th></th>\n",
       "      <th>Unnamed: 0</th>\n",
       "      <th>time-to-certificate</th>\n",
       "      <th>num-nodes</th>\n",
       "      <th>csr-size</th>\n",
       "      <th>adversary-type</th>\n",
       "      <th>adversary-fraction</th>\n",
       "    </tr>\n",
       "  </thead>\n",
       "  <tbody>\n",
       "    <tr>\n",
       "      <th>0</th>\n",
       "      <td>0</td>\n",
       "      <td>56</td>\n",
       "      <td>30</td>\n",
       "      <td>100</td>\n",
       "      <td>none</td>\n",
       "      <td>0.0</td>\n",
       "    </tr>\n",
       "    <tr>\n",
       "      <th>1</th>\n",
       "      <td>1</td>\n",
       "      <td>136</td>\n",
       "      <td>30</td>\n",
       "      <td>100</td>\n",
       "      <td>none</td>\n",
       "      <td>0.0</td>\n",
       "    </tr>\n",
       "    <tr>\n",
       "      <th>2</th>\n",
       "      <td>2</td>\n",
       "      <td>135</td>\n",
       "      <td>30</td>\n",
       "      <td>100</td>\n",
       "      <td>none</td>\n",
       "      <td>0.0</td>\n",
       "    </tr>\n",
       "    <tr>\n",
       "      <th>3</th>\n",
       "      <td>3</td>\n",
       "      <td>108</td>\n",
       "      <td>30</td>\n",
       "      <td>100</td>\n",
       "      <td>none</td>\n",
       "      <td>0.0</td>\n",
       "    </tr>\n",
       "    <tr>\n",
       "      <th>4</th>\n",
       "      <td>4</td>\n",
       "      <td>141</td>\n",
       "      <td>30</td>\n",
       "      <td>100</td>\n",
       "      <td>none</td>\n",
       "      <td>0.0</td>\n",
       "    </tr>\n",
       "    <tr>\n",
       "      <th>...</th>\n",
       "      <td>...</td>\n",
       "      <td>...</td>\n",
       "      <td>...</td>\n",
       "      <td>...</td>\n",
       "      <td>...</td>\n",
       "      <td>...</td>\n",
       "    </tr>\n",
       "    <tr>\n",
       "      <th>10295</th>\n",
       "      <td>245</td>\n",
       "      <td>60</td>\n",
       "      <td>10</td>\n",
       "      <td>100</td>\n",
       "      <td>crash</td>\n",
       "      <td>0.3</td>\n",
       "    </tr>\n",
       "    <tr>\n",
       "      <th>10296</th>\n",
       "      <td>246</td>\n",
       "      <td>40</td>\n",
       "      <td>10</td>\n",
       "      <td>100</td>\n",
       "      <td>crash</td>\n",
       "      <td>0.3</td>\n",
       "    </tr>\n",
       "    <tr>\n",
       "      <th>10297</th>\n",
       "      <td>247</td>\n",
       "      <td>44</td>\n",
       "      <td>10</td>\n",
       "      <td>100</td>\n",
       "      <td>crash</td>\n",
       "      <td>0.3</td>\n",
       "    </tr>\n",
       "    <tr>\n",
       "      <th>10298</th>\n",
       "      <td>248</td>\n",
       "      <td>40</td>\n",
       "      <td>10</td>\n",
       "      <td>100</td>\n",
       "      <td>crash</td>\n",
       "      <td>0.3</td>\n",
       "    </tr>\n",
       "    <tr>\n",
       "      <th>10299</th>\n",
       "      <td>249</td>\n",
       "      <td>20</td>\n",
       "      <td>10</td>\n",
       "      <td>100</td>\n",
       "      <td>crash</td>\n",
       "      <td>0.3</td>\n",
       "    </tr>\n",
       "  </tbody>\n",
       "</table>\n",
       "<p>10300 rows × 6 columns</p>\n",
       "</div>"
      ],
      "text/plain": [
       "       Unnamed: 0  time-to-certificate  num-nodes  csr-size adversary-type  \\\n",
       "0               0                   56         30       100           none   \n",
       "1               1                  136         30       100           none   \n",
       "2               2                  135         30       100           none   \n",
       "3               3                  108         30       100           none   \n",
       "4               4                  141         30       100           none   \n",
       "...           ...                  ...        ...       ...            ...   \n",
       "10295         245                   60         10       100          crash   \n",
       "10296         246                   40         10       100          crash   \n",
       "10297         247                   44         10       100          crash   \n",
       "10298         248                   40         10       100          crash   \n",
       "10299         249                   20         10       100          crash   \n",
       "\n",
       "       adversary-fraction  \n",
       "0                     0.0  \n",
       "1                     0.0  \n",
       "2                     0.0  \n",
       "3                     0.0  \n",
       "4                     0.0  \n",
       "...                   ...  \n",
       "10295                 0.3  \n",
       "10296                 0.3  \n",
       "10297                 0.3  \n",
       "10298                 0.3  \n",
       "10299                 0.3  \n",
       "\n",
       "[10300 rows x 6 columns]"
      ]
     },
     "execution_count": 3,
     "metadata": {},
     "output_type": "execute_result"
    }
   ],
   "source": [
    "import pandas as pd\n",
    "import seaborn as sns\n",
    "import glob\n",
    "import matplotlib.pyplot as plt\n",
    "%matplotlib inline\n",
    "\n",
    "path = \"./measurements\"\n",
    "files = glob.glob(path + \"/*.csv\")\n",
    "\n",
    "# combining measurements from different clients into one data frame\n",
    "list = []\n",
    "for f in files:\n",
    "    df = pd.read_csv(f, header=0)\n",
    "    list.append(df)\n",
    "\n",
    "#df = pd.concat(list)\n",
    "df = pd.read_csv('measurements.csv')\n",
    "df"
   ]
  },
  {
   "cell_type": "code",
   "execution_count": 46,
   "id": "1a730dce",
   "metadata": {},
   "outputs": [
    {
     "data": {
      "image/png": "[encoded data removed]",
      "text/plain": [
       "<Figure size 432x288 with 1 Axes>"
      ]
     },
     "metadata": {},
     "output_type": "display_data"
    }
   ],
   "source": [
    "fourNodes = df.loc[(df[\"num-nodes\"] == 4) & (df[\"csr-size\"] <= 100000)]\n",
    "sns.set_style(\"whitegrid\")\n",
    " \n",
    "bplot = sns.boxplot(y=\"time-to-certificate\", \n",
    "            x=\"csr-size\",\n",
    "            data=fourNodes,\n",
    "            showfliers=False,\n",
    "            width=0.2,)\n",
    "\n",
    "\n",
    "bplot.set(xlabel =\"payload-size in bytes\", ylabel = \"time-to-certificate in ms\")\n",
    "#plt.yscale(\"log\")\n",
    "xlabels = [\"100B\", \"1KB\", \"10KB\", \"0.1MB\"]\n",
    "bplot.set_xticklabels(xlabels)\n",
    "plt.savefig(\"payload-plot.pdf\")"
   ]
  },
  {
   "cell_type": "code",
   "execution_count": 45,
   "id": "d27a150d",
   "metadata": {},
   "outputs": [
    {
     "data": {
      "image/png": "[encoded data removed]",
      "text/plain": [
       "<Figure size 432x288 with 1 Axes>"
      ]
     },
     "metadata": {},
     "output_type": "display_data"
    }
   ],
   "source": [
    "hundredBytes = df.loc[df[\"csr-size\"] == 100]\n",
    "hundredBytes\n",
    "\n",
    "\n",
    "node_count_plot = sns.boxplot(y=\"time-to-certificate\", \n",
    "            x=\"num-nodes\",\n",
    "            data=hundredBytes,\n",
    "            showfliers=False,\n",
    "            width=0.2,)\n",
    "node_count_plot.set(xlabel =\"number of nodes\", ylabel = \"time-to-certificate in ms\")\n",
    "plt.savefig(\"num-nodes-plot.pdf\")"
   ]
  },
  {
   "cell_type": "code",
   "execution_count": 44,
   "id": "7e7c7232",
   "metadata": {},
   "outputs": [
    {
     "data": {
      "image/png": "[encoded data removed]",
      "text/plain": [
       "<Figure size 432x288 with 1 Axes>"
      ]
     },
     "metadata": {},
     "output_type": "display_data"
    }
   ],
   "source": [
    "adv = df.loc[(df[\"num-nodes\"] == 10) & (df[\"csr-size\"] == 100)]\n",
    "\n",
    "\n",
    "adv_frac_plot = sns.boxplot(y=\"time-to-certificate\", \n",
    "            x=\"adversary-fraction\",\n",
    "            data=adv,\n",
    "            showfliers=False,\n",
    "            width=0.2,)\n",
    "\n",
    "adv_frac_plot.set(xlabel =\"fraction of malicious nodes\", ylabel = \"time-to-certificate in ms\")\n",
    "plt.savefig(\"adv-frac-plot.pdf\")"
   ]
  }
 ],
 "metadata": {
  "kernelspec": {
   "display_name": "Python 3",
   "language": "python",
   "name": "python3"
  },
  "language_info": {
   "codemirror_mode": {
    "name": "ipython",
    "version": 3
   },
   "file_extension": ".py",
   "mimetype": "text/x-python",
   "name": "python",
   "nbconvert_exporter": "python",
   "pygments_lexer": "ipython3",
   "version": "3.9.5"
  }
 },
 "nbformat": 4,
 "nbformat_minor": 5
}
