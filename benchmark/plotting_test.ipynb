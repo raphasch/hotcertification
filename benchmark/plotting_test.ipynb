{
 "cells": [
  {
   "cell_type": "code",
   "execution_count": 1,
   "id": "7f73f215",
   "metadata": {},
   "outputs": [],
   "source": [
    "import pandas as pd\n",
    "import seaborn as sns\n",
    "import glob\n",
    "import matplotlib.pyplot as plt\n",
    "%matplotlib inline"
   ]
  },
  {
   "cell_type": "code",
   "execution_count": 2,
   "id": "4b7252af",
   "metadata": {},
   "outputs": [],
   "source": [
    "path = \"./measurements\"\n",
    "files = glob.glob(path + \"/*.csv\")\n",
    "\n",
    "# combining measurements from different clients into one data frame\n",
    "list = []\n",
    "for f in files:\n",
    "    df = pd.read_csv(f, header=0)\n",
    "    list.append(df)\n",
    "df = pd.concat(list)"
   ]
  },
  {
   "cell_type": "code",
   "execution_count": 3,
   "id": "8bd6357f",
   "metadata": {},
   "outputs": [],
   "source": [
    "#size_group =  df.groupby([\"csr-size\"])\n",
    "#size_group.get_group(500)"
   ]
  },
  {
   "cell_type": "code",
   "execution_count": 4,
   "id": "1a730dce",
   "metadata": {},
   "outputs": [
    {
     "data": {
      "text/plain": [
       "(0.0, 73.7)"
      ]
     },
     "execution_count": 4,
     "metadata": {},
     "output_type": "execute_result"
    },
    {
     "data": {
      "image/png": "[encoded data removed]",
      "text/plain": [
       "<Figure size 432x288 with 1 Axes>"
      ]
     },
     "metadata": {},
     "output_type": "display_data"
    }
   ],
   "source": [
    "sns.set_style(\"whitegrid\")\n",
    "sns.boxplot(y=\"time-to-certificate\", \n",
    "            x=\"csr-size\",\n",
    "            data=df,\n",
    "            showfliers=False,\n",
    "            width=0.2,)\n",
    "plt.ylim(0)"
   ]
  },
  {
   "cell_type": "code",
   "execution_count": null,
   "id": "d27a150d",
   "metadata": {},
   "outputs": [],
   "source": []
  }
 ],
 "metadata": {
  "kernelspec": {
   "display_name": "Python 3",
   "language": "python",
   "name": "python3"
  },
  "language_info": {
   "codemirror_mode": {
    "name": "ipython",
    "version": 3
   },
   "file_extension": ".py",
   "mimetype": "text/x-python",
   "name": "python",
   "nbconvert_exporter": "python",
   "pygments_lexer": "ipython3",
   "version": "3.9.5"
  }
 },
 "nbformat": 4,
 "nbformat_minor": 5
}
